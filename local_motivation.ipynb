{
 "cells": [
  {
   "cell_type": "code",
   "execution_count": 2,
   "id": "682e768d",
   "metadata": {},
   "outputs": [],
   "source": [
    "import pandas as pd\n",
    "import glob\n",
    "import os\n",
    "import numpy as np\n",
    "import matplotlib.pyplot as plt\n",
    "import json\n",
    "import seaborn as sns\n",
    "import pickle as pkl\n",
    "import copy\n",
    "import matplotlib.patches as mpatches\n",
    "from utils import OPT_PATH as opt_path\n",
    "# refer to https://matplotlib.org/stable/api/markers_api.html\n",
    "markers = [\"o\", \"v\", \"s\", \"*\", \"D\"]\n",
    "# refer to https://matplotlib.org/stable/gallery/color/named_colors.html\n",
    "colors = ['tab:blue', 'tab:orange', 'tab:green', 'tab:red', 'tab:purple', 'tab:brown', 'tab:pink', 'tab:gray']\n",
    "# https://matplotlib.org/3.1.0/gallery/lines_bars_and_markers/linestyles.html\n",
    "linestyles = 'solid'\n",
    "# refer to https://github.com/bvalgard/Boxplots/blob/master/Boxplots.ipynb"
   ]
  },
  {
   "cell_type": "markdown",
   "id": "3e4de0ef",
   "metadata": {},
   "source": [
    "## Universality v.s. Transferability"
   ]
  },
  {
   "cell_type": "markdown",
   "id": "4e0b03a5",
   "metadata": {},
   "source": [
    "### I-FGSM"
   ]
  },
  {
   "cell_type": "code",
   "execution_count": 3,
   "id": "75172213",
   "metadata": {},
   "outputs": [],
   "source": [
    "path = glob.glob(os.path.join(opt_path, '*-DTMI-*motivation_IFGSM/eval_universal.npy'))\n",
    "json_path = glob.glob(os.path.join(opt_path, '*-DTMI-*motivation_IFGSM/pert_to_OriImageInd.json'))\n",
    "eval_universal = np.load(path[0])\n",
    "with open(json_path[0], 'r') as ipt:\n",
    "    pert_to_OriImageInd = json.load(ipt)\n",
    "# obtain each pert's white-box universal \n",
    "ifgsm_white_universal = []\n",
    "for pert_ind in range(1000):\n",
    "    preds = eval_universal[2][pert_ind]\n",
    "    image_id = pert_to_OriImageInd[str(pert_ind)]\n",
    "    preds = np.delete(preds, image_id)\n",
    "    ifgsm_white_universal.append(np.sum(preds))\n",
    "ifgsm_white_universal = np.array(ifgsm_white_universal)"
   ]
  },
  {
   "cell_type": "markdown",
   "id": "a3250e54",
   "metadata": {},
   "source": [
    "### DTMI"
   ]
  },
  {
   "cell_type": "code",
   "execution_count": 65,
   "id": "c9c162e5",
   "metadata": {},
   "outputs": [],
   "source": [
    "path = glob.glob(os.path.join(opt_path, '*-DTMI-*motivation/eval_universal.npy'))\n",
    "json_path = glob.glob(os.path.join(opt_path, '*-DTMI-*motivation/pert_to_OriImageInd.json'))\n",
    "eval_universal = np.load(path[0])\n",
    "with open(json_path[0], 'r') as ipt:\n",
    "    pert_to_OriImageInd = json.load(ipt)\n",
    "# obtain each pert's white-box universal \n",
    "dtmi_white_universal = []\n",
    "for pert_ind in range(1000):\n",
    "    preds = eval_universal[2][pert_ind]\n",
    "    image_id = pert_to_OriImageInd[str(pert_ind)]\n",
    "    preds = np.delete(preds, image_id)\n",
    "    dtmi_white_universal.append(np.sum(preds))\n",
    "dtmi_white_universal = np.array(dtmi_white_universal)"
   ]
  },
  {
   "cell_type": "code",
   "execution_count": 66,
   "id": "9478b2ae",
   "metadata": {},
   "outputs": [
    {
     "data": {
      "image/png": "[encoded data removed]",
      "text/plain": [
       "<Figure size 288x216 with 1 Axes>"
      ]
     },
     "metadata": {
      "needs_background": "light"
     },
     "output_type": "display_data"
    }
   ],
   "source": [
    "fig = plt.figure(figsize=(4,3)) \n",
    "ax1 = fig.add_subplot(111)\n",
    "ind = np.argsort(-ifgsm_white_universal)\n",
    "ax1.bar(range(len(ind)), np.array(ifgsm_white_universal)[ind], width=1, alpha=1, color=sns.color_palette(\"Paired\")[5])\n",
    "# ax1.set_yticks([0.00, 0.10, 0.20, 0.30, 0.40, 0.50])\n",
    "# ax2 = fig.add_subplot(312)\n",
    "ax1.bar(range(len(ind)), np.array(dtmi_white_universal)[ind], width=1, alpha=0.4, color=sns.color_palette(\"Paired\")[1])\n",
    "# ax3 = fig.add_subplot(313)\n",
    "# ax3.bar(range(len(ind)), np.array(local_dtmi_white_universal)[ind], width=1, alpha=0.5, color='orange')\n",
    "\n",
    "\n",
    "labels = ['I-FGSM', 'DTMI'] \n",
    "color = [sns.color_palette(\"Paired\")[5], sns.color_palette(\"Paired\")[1]]\n",
    "patches = [ mpatches.Patch(color=color[i], label=\"{:s}\".format(labels[i]) ) for i in range(len(color)) ] \n",
    "ax=plt.gca()\n",
    "box = ax.get_position()\n",
    "# ax.set_position([box.x0, box.y0, box.width , box.height* 0.8])\n",
    "ax.legend(handles=patches, fontsize=10) #生成legend\n",
    "plt.xlabel('Generated adversarial perturbations')\n",
    "plt.ylabel('Successful attacks on other images')\n",
    "# plt.show()\n",
    "plt.savefig('./figures/perturbation_universality.pdf', format='pdf', bbox_inches = 'tight')"
   ]
  },
  {
   "cell_type": "markdown",
   "id": "2f6428d1",
   "metadata": {},
   "source": [
    "### SI "
   ]
  },
  {
   "cell_type": "code",
   "execution_count": 8,
   "id": "9bdb1f42",
   "metadata": {},
   "outputs": [],
   "source": [
    "path = glob.glob(os.path.join('/share_io02_ssd/zhipeng/targeted_attack_loss/', 'Loss-resnet50-NIPSDataset-SI_DTMI-Target_CE-baseline/eval_universal.npy'))\n",
    "json_path = glob.glob(os.path.join('/share_io02_ssd/zhipeng/targeted_attack_loss/', 'Loss-resnet50-NIPSDataset-SI_DTMI-Target_CE-baseline/pert_to_OriImageInd.json'))\n",
    "eval_universal = np.load(path[0])\n",
    "with open(json_path[0], 'r') as ipt:\n",
    "    pert_to_OriImageInd = json.load(ipt)\n",
    "# obtain each pert's white-box universal \n",
    "SI_white_universal = []\n",
    "for pert_ind in range(1000):\n",
    "    preds = eval_universal[2][pert_ind]\n",
    "    image_id = pert_to_OriImageInd[str(pert_ind)]\n",
    "    preds = np.delete(preds, image_id)\n",
    "    SI_white_universal.append(np.sum(preds))\n",
    "SI_white_universal = np.array(SI_white_universal)"
   ]
  },
  {
   "cell_type": "code",
   "execution_count": 12,
   "id": "c34f2c01",
   "metadata": {},
   "outputs": [
    {
     "data": {
      "text/plain": [
       "Text(0, 0.5, 'Successful attacks on other images')"
      ]
     },
     "execution_count": 12,
     "metadata": {},
     "output_type": "execute_result"
    },
    {
     "data": {
      "image/png": "[encoded data removed]",
      "text/plain": [
       "<Figure size 288x216 with 1 Axes>"
      ]
     },
     "metadata": {
      "needs_background": "light"
     },
     "output_type": "display_data"
    }
   ],
   "source": [
    "fig = plt.figure(figsize=(4,3)) \n",
    "ax1 = fig.add_subplot(111)\n",
    "ind = np.argsort(-ifgsm_white_universal)\n",
    "ax1.bar(range(len(ind)), np.array(ifgsm_white_universal)[ind], width=1, alpha=1, color=sns.color_palette(\"Paired\")[5])\n",
    "# ax1.set_yticks([0.00, 0.10, 0.20, 0.30, 0.40, 0.50])\n",
    "# ax2 = fig.add_subplot(312)\n",
    "ax1.bar(range(len(ind)), np.array(SI_white_universal)[ind], width=1, alpha=0.4, color=sns.color_palette(\"Paired\")[1])\n",
    "# ax3 = fig.add_subplot(313)\n",
    "# ax3.bar(range(len(ind)), np.array(local_dtmi_white_universal)[ind], width=1, alpha=0.5, color='orange')\n",
    "\n",
    "\n",
    "labels = ['I-FGSM', 'DTMI'] \n",
    "color = [sns.color_palette(\"Paired\")[5], sns.color_palette(\"Paired\")[1]]\n",
    "patches = [ mpatches.Patch(color=color[i], label=\"{:s}\".format(labels[i]) ) for i in range(len(color)) ] \n",
    "ax=plt.gca()\n",
    "box = ax.get_position()\n",
    "# ax.set_position([box.x0, box.y0, box.width , box.height* 0.8])\n",
    "ax.legend(handles=patches, fontsize=10) #生成legend\n",
    "plt.xlabel('Generated adversarial perturbations')\n",
    "plt.ylabel('Successful attacks on other images')\n",
    "# plt.show()\n",
    "# plt.savefig('./figures/perturbation_universality.pdf', format='pdf', bbox_inches = 'tight')"
   ]
  },
  {
   "cell_type": "markdown",
   "id": "e14463ba",
   "metadata": {},
   "source": [
    "### Admix"
   ]
  },
  {
   "cell_type": "code",
   "execution_count": 10,
   "id": "9f980f62",
   "metadata": {},
   "outputs": [],
   "source": [
    "path = glob.glob(os.path.join('/share_io02_ssd/zhipeng/targeted_attack_loss/', 'Loss-resnet50-NIPSDataset-Admix_DTMI-Target_CE-baseline/eval_universal.npy'))\n",
    "json_path = glob.glob(os.path.join('/share_io02_ssd/zhipeng/targeted_attack_loss/', 'Loss-resnet50-NIPSDataset-Admix_DTMI-Target_CE-baseline/pert_to_OriImageInd.json'))\n",
    "eval_universal = np.load(path[0])\n",
    "with open(json_path[0], 'r') as ipt:\n",
    "    pert_to_OriImageInd = json.load(ipt)\n",
    "# obtain each pert's white-box universal \n",
    "admix_white_universal = []\n",
    "for pert_ind in range(1000):\n",
    "    preds = eval_universal[2][pert_ind]\n",
    "    image_id = pert_to_OriImageInd[str(pert_ind)]\n",
    "    preds = np.delete(preds, image_id)\n",
    "    admix_white_universal.append(np.sum(preds))\n",
    "admix_white_universal = np.array(admix_white_universal)"
   ]
  },
  {
   "cell_type": "code",
   "execution_count": 13,
   "id": "74268414",
   "metadata": {},
   "outputs": [
    {
     "data": {
      "text/plain": [
       "Text(0, 0.5, 'Successful attacks on other images')"
      ]
     },
     "execution_count": 13,
     "metadata": {},
     "output_type": "execute_result"
    },
    {
     "data": {
      "image/png": "[encoded data removed]",
      "text/plain": [
       "<Figure size 288x216 with 1 Axes>"
      ]
     },
     "metadata": {
      "needs_background": "light"
     },
     "output_type": "display_data"
    }
   ],
   "source": [
    "fig = plt.figure(figsize=(4,3)) \n",
    "ax1 = fig.add_subplot(111)\n",
    "ind = np.argsort(-ifgsm_white_universal)\n",
    "ax1.bar(range(len(ind)), np.array(ifgsm_white_universal)[ind], width=1, alpha=1, color=sns.color_palette(\"Paired\")[5])\n",
    "# ax1.set_yticks([0.00, 0.10, 0.20, 0.30, 0.40, 0.50])\n",
    "# ax2 = fig.add_subplot(312)\n",
    "ax1.bar(range(len(ind)), np.array(admix_white_universal)[ind], width=1, alpha=0.4, color=sns.color_palette(\"Paired\")[1])\n",
    "# ax3 = fig.add_subplot(313)\n",
    "# ax3.bar(range(len(ind)), np.array(local_dtmi_white_universal)[ind], width=1, alpha=0.5, color='orange')\n",
    "\n",
    "\n",
    "labels = ['I-FGSM', 'DTMI'] \n",
    "color = [sns.color_palette(\"Paired\")[5], sns.color_palette(\"Paired\")[1]]\n",
    "patches = [ mpatches.Patch(color=color[i], label=\"{:s}\".format(labels[i]) ) for i in range(len(color)) ] \n",
    "ax=plt.gca()\n",
    "box = ax.get_position()\n",
    "# ax.set_position([box.x0, box.y0, box.width , box.height* 0.8])\n",
    "ax.legend(handles=patches, fontsize=10) #生成legend\n",
    "plt.xlabel('Generated adversarial perturbations')\n",
    "plt.ylabel('Successful attacks on other images')\n",
    "# plt.show()\n",
    "# plt.savefig('./figures/perturbation_universality.pdf', format='pdf', bbox_inches = 'tight')"
   ]
  },
  {
   "cell_type": "code",
   "execution_count": null,
   "id": "800e0f1e",
   "metadata": {},
   "outputs": [],
   "source": []
  }
 ],
 "metadata": {
  "kernelspec": {
   "display_name": "Python 3 (ipykernel)",
   "language": "python",
   "name": "python3"
  },
  "language_info": {
   "codemirror_mode": {
    "name": "ipython",
    "version": 3
   },
   "file_extension": ".py",
   "mimetype": "text/x-python",
   "name": "python",
   "nbconvert_exporter": "python",
   "pygments_lexer": "ipython3",
   "version": "3.7.11"
  }
 },
 "nbformat": 4,
 "nbformat_minor": 5
}
